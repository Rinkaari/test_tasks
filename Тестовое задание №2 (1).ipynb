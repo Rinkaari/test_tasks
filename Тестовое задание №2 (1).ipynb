{
 "cells": [
  {
   "cell_type": "code",
   "execution_count": 1,
   "metadata": {},
   "outputs": [],
   "source": [
    "import pandas as pd\n",
    "import numpy as np\n",
    "from sklearn.model_selection import train_test_split"
   ]
  },
  {
   "cell_type": "markdown",
   "metadata": {},
   "source": [
    "### Обработка данных"
   ]
  },
  {
   "cell_type": "code",
   "execution_count": 2,
   "metadata": {},
   "outputs": [],
   "source": [
    "#загружаем основной тренировочный датасет\n",
    "X_data = pd.read_csv('X_data.csv', sep = ';')"
   ]
  },
  {
   "cell_type": "code",
   "execution_count": 3,
   "metadata": {},
   "outputs": [],
   "source": [
    "#переименовываем столбец\n",
    "X_data = X_data.rename(columns = {'Unnamed: 0':'Date'})"
   ]
  },
  {
   "cell_type": "code",
   "execution_count": 4,
   "metadata": {},
   "outputs": [],
   "source": [
    "#загружаем дополнительные данные для тренировки, где есть целевой показатель MAE\n",
    "Y_data = pd.read_csv('Y_train.csv', sep = ';')"
   ]
  },
  {
   "cell_type": "code",
   "execution_count": 5,
   "metadata": {},
   "outputs": [],
   "source": [
    "#исправляем ситуацию с данными в хэдере, корректно называем столбцы\n",
    "Y_data.loc[-1] = [pd.Series(Y_data.columns)[0],pd.Series(Y_data.columns)[1]]\n",
    "Y_data.index = Y_data.index + 1\n",
    "Y_data = Y_data.sort_index()\n",
    "Y_data = Y_data.rename(columns={'2015-01-04 00:05:00':'Date','392':'MAE'})"
   ]
  },
  {
   "cell_type": "code",
   "execution_count": 6,
   "metadata": {},
   "outputs": [],
   "source": [
    "#мерджим таблицы для получения финального датасета для тренировки модели\n",
    "x_data = pd.merge(X_data, Y_data, how = 'right', on = 'Date')"
   ]
  },
  {
   "cell_type": "code",
   "execution_count": 7,
   "metadata": {},
   "outputs": [
    {
     "data": {
      "text/html": [
       "<div>\n",
       "<style scoped>\n",
       "    .dataframe tbody tr th:only-of-type {\n",
       "        vertical-align: middle;\n",
       "    }\n",
       "\n",
       "    .dataframe tbody tr th {\n",
       "        vertical-align: top;\n",
       "    }\n",
       "\n",
       "    .dataframe thead th {\n",
       "        text-align: right;\n",
       "    }\n",
       "</style>\n",
       "<table border=\"1\" class=\"dataframe\">\n",
       "  <thead>\n",
       "    <tr style=\"text-align: right;\">\n",
       "      <th></th>\n",
       "      <th>T_data_1_1</th>\n",
       "      <th>T_data_1_2</th>\n",
       "      <th>T_data_1_3</th>\n",
       "      <th>T_data_2_1</th>\n",
       "      <th>T_data_2_2</th>\n",
       "      <th>T_data_2_3</th>\n",
       "      <th>T_data_3_1</th>\n",
       "      <th>T_data_3_2</th>\n",
       "      <th>T_data_3_3</th>\n",
       "      <th>T_data_4_1</th>\n",
       "      <th>T_data_4_2</th>\n",
       "      <th>T_data_4_3</th>\n",
       "      <th>T_data_5_1</th>\n",
       "      <th>T_data_5_2</th>\n",
       "      <th>T_data_5_3</th>\n",
       "      <th>H_data</th>\n",
       "      <th>AH_data</th>\n",
       "    </tr>\n",
       "  </thead>\n",
       "  <tbody>\n",
       "    <tr>\n",
       "      <th>count</th>\n",
       "      <td>29184.000000</td>\n",
       "      <td>29184.000000</td>\n",
       "      <td>29184.000000</td>\n",
       "      <td>29184.000000</td>\n",
       "      <td>29184.000000</td>\n",
       "      <td>29184.000000</td>\n",
       "      <td>29184.000000</td>\n",
       "      <td>29184.000000</td>\n",
       "      <td>29184.000000</td>\n",
       "      <td>29184.000000</td>\n",
       "      <td>29184.000000</td>\n",
       "      <td>29184.00000</td>\n",
       "      <td>29184.000000</td>\n",
       "      <td>29184.000000</td>\n",
       "      <td>29184.000000</td>\n",
       "      <td>29184.000000</td>\n",
       "      <td>29184.000000</td>\n",
       "    </tr>\n",
       "    <tr>\n",
       "      <th>mean</th>\n",
       "      <td>250.034265</td>\n",
       "      <td>249.814179</td>\n",
       "      <td>250.152584</td>\n",
       "      <td>349.803008</td>\n",
       "      <td>349.717893</td>\n",
       "      <td>349.951377</td>\n",
       "      <td>501.162932</td>\n",
       "      <td>500.918037</td>\n",
       "      <td>501.318291</td>\n",
       "      <td>348.956689</td>\n",
       "      <td>348.952063</td>\n",
       "      <td>349.67352</td>\n",
       "      <td>249.800644</td>\n",
       "      <td>249.671635</td>\n",
       "      <td>249.848890</td>\n",
       "      <td>174.750047</td>\n",
       "      <td>7.500597</td>\n",
       "    </tr>\n",
       "    <tr>\n",
       "      <th>std</th>\n",
       "      <td>32.350350</td>\n",
       "      <td>30.453885</td>\n",
       "      <td>30.635287</td>\n",
       "      <td>43.752481</td>\n",
       "      <td>41.414882</td>\n",
       "      <td>38.016812</td>\n",
       "      <td>62.418309</td>\n",
       "      <td>64.634889</td>\n",
       "      <td>61.482540</td>\n",
       "      <td>38.755415</td>\n",
       "      <td>40.172444</td>\n",
       "      <td>39.73318</td>\n",
       "      <td>30.780582</td>\n",
       "      <td>30.545967</td>\n",
       "      <td>30.630141</td>\n",
       "      <td>14.403922</td>\n",
       "      <td>1.146831</td>\n",
       "    </tr>\n",
       "    <tr>\n",
       "      <th>min</th>\n",
       "      <td>-193.000000</td>\n",
       "      <td>-120.000000</td>\n",
       "      <td>-96.000000</td>\n",
       "      <td>-703.000000</td>\n",
       "      <td>-914.000000</td>\n",
       "      <td>-186.000000</td>\n",
       "      <td>-591.000000</td>\n",
       "      <td>-759.000000</td>\n",
       "      <td>-441.000000</td>\n",
       "      <td>-441.000000</td>\n",
       "      <td>-446.000000</td>\n",
       "      <td>-594.00000</td>\n",
       "      <td>-82.000000</td>\n",
       "      <td>-106.000000</td>\n",
       "      <td>-128.000000</td>\n",
       "      <td>145.000000</td>\n",
       "      <td>3.120000</td>\n",
       "    </tr>\n",
       "    <tr>\n",
       "      <th>25%</th>\n",
       "      <td>228.000000</td>\n",
       "      <td>228.000000</td>\n",
       "      <td>229.000000</td>\n",
       "      <td>328.000000</td>\n",
       "      <td>328.000000</td>\n",
       "      <td>328.000000</td>\n",
       "      <td>464.000000</td>\n",
       "      <td>463.000000</td>\n",
       "      <td>464.000000</td>\n",
       "      <td>327.000000</td>\n",
       "      <td>327.000000</td>\n",
       "      <td>327.00000</td>\n",
       "      <td>229.000000</td>\n",
       "      <td>229.000000</td>\n",
       "      <td>228.000000</td>\n",
       "      <td>162.460000</td>\n",
       "      <td>6.730000</td>\n",
       "    </tr>\n",
       "    <tr>\n",
       "      <th>50%</th>\n",
       "      <td>250.000000</td>\n",
       "      <td>250.000000</td>\n",
       "      <td>250.000000</td>\n",
       "      <td>350.000000</td>\n",
       "      <td>350.000000</td>\n",
       "      <td>350.000000</td>\n",
       "      <td>502.000000</td>\n",
       "      <td>502.000000</td>\n",
       "      <td>502.000000</td>\n",
       "      <td>349.000000</td>\n",
       "      <td>349.000000</td>\n",
       "      <td>350.00000</td>\n",
       "      <td>250.000000</td>\n",
       "      <td>250.000000</td>\n",
       "      <td>250.000000</td>\n",
       "      <td>174.400000</td>\n",
       "      <td>7.510000</td>\n",
       "    </tr>\n",
       "    <tr>\n",
       "      <th>75%</th>\n",
       "      <td>272.000000</td>\n",
       "      <td>271.000000</td>\n",
       "      <td>272.000000</td>\n",
       "      <td>372.000000</td>\n",
       "      <td>372.000000</td>\n",
       "      <td>372.000000</td>\n",
       "      <td>538.000000</td>\n",
       "      <td>537.000000</td>\n",
       "      <td>539.000000</td>\n",
       "      <td>371.000000</td>\n",
       "      <td>371.000000</td>\n",
       "      <td>371.00000</td>\n",
       "      <td>271.000000</td>\n",
       "      <td>271.000000</td>\n",
       "      <td>271.000000</td>\n",
       "      <td>186.980000</td>\n",
       "      <td>8.280000</td>\n",
       "    </tr>\n",
       "    <tr>\n",
       "      <th>max</th>\n",
       "      <td>722.000000</td>\n",
       "      <td>564.000000</td>\n",
       "      <td>643.000000</td>\n",
       "      <td>1299.000000</td>\n",
       "      <td>1178.000000</td>\n",
       "      <td>886.000000</td>\n",
       "      <td>1491.000000</td>\n",
       "      <td>2492.000000</td>\n",
       "      <td>1294.000000</td>\n",
       "      <td>1136.000000</td>\n",
       "      <td>1204.000000</td>\n",
       "      <td>944.00000</td>\n",
       "      <td>879.000000</td>\n",
       "      <td>737.000000</td>\n",
       "      <td>619.000000</td>\n",
       "      <td>206.680000</td>\n",
       "      <td>11.620000</td>\n",
       "    </tr>\n",
       "  </tbody>\n",
       "</table>\n",
       "</div>"
      ],
      "text/plain": [
       "         T_data_1_1    T_data_1_2    T_data_1_3    T_data_2_1    T_data_2_2  \\\n",
       "count  29184.000000  29184.000000  29184.000000  29184.000000  29184.000000   \n",
       "mean     250.034265    249.814179    250.152584    349.803008    349.717893   \n",
       "std       32.350350     30.453885     30.635287     43.752481     41.414882   \n",
       "min     -193.000000   -120.000000    -96.000000   -703.000000   -914.000000   \n",
       "25%      228.000000    228.000000    229.000000    328.000000    328.000000   \n",
       "50%      250.000000    250.000000    250.000000    350.000000    350.000000   \n",
       "75%      272.000000    271.000000    272.000000    372.000000    372.000000   \n",
       "max      722.000000    564.000000    643.000000   1299.000000   1178.000000   \n",
       "\n",
       "         T_data_2_3    T_data_3_1    T_data_3_2    T_data_3_3    T_data_4_1  \\\n",
       "count  29184.000000  29184.000000  29184.000000  29184.000000  29184.000000   \n",
       "mean     349.951377    501.162932    500.918037    501.318291    348.956689   \n",
       "std       38.016812     62.418309     64.634889     61.482540     38.755415   \n",
       "min     -186.000000   -591.000000   -759.000000   -441.000000   -441.000000   \n",
       "25%      328.000000    464.000000    463.000000    464.000000    327.000000   \n",
       "50%      350.000000    502.000000    502.000000    502.000000    349.000000   \n",
       "75%      372.000000    538.000000    537.000000    539.000000    371.000000   \n",
       "max      886.000000   1491.000000   2492.000000   1294.000000   1136.000000   \n",
       "\n",
       "         T_data_4_2   T_data_4_3    T_data_5_1    T_data_5_2    T_data_5_3  \\\n",
       "count  29184.000000  29184.00000  29184.000000  29184.000000  29184.000000   \n",
       "mean     348.952063    349.67352    249.800644    249.671635    249.848890   \n",
       "std       40.172444     39.73318     30.780582     30.545967     30.630141   \n",
       "min     -446.000000   -594.00000    -82.000000   -106.000000   -128.000000   \n",
       "25%      327.000000    327.00000    229.000000    229.000000    228.000000   \n",
       "50%      349.000000    350.00000    250.000000    250.000000    250.000000   \n",
       "75%      371.000000    371.00000    271.000000    271.000000    271.000000   \n",
       "max     1204.000000    944.00000    879.000000    737.000000    619.000000   \n",
       "\n",
       "             H_data       AH_data  \n",
       "count  29184.000000  29184.000000  \n",
       "mean     174.750047      7.500597  \n",
       "std       14.403922      1.146831  \n",
       "min      145.000000      3.120000  \n",
       "25%      162.460000      6.730000  \n",
       "50%      174.400000      7.510000  \n",
       "75%      186.980000      8.280000  \n",
       "max      206.680000     11.620000  "
      ]
     },
     "execution_count": 7,
     "metadata": {},
     "output_type": "execute_result"
    }
   ],
   "source": [
    "#смотрим на данные, присутствуют странные значения температурных датчиков, которые показывают температуру ниже абсолютного нуля\n",
    "x_data.describe()"
   ]
  },
  {
   "cell_type": "code",
   "execution_count": 8,
   "metadata": {},
   "outputs": [
    {
     "name": "stdout",
     "output_type": "stream",
     "text": [
      "203\n"
     ]
    }
   ],
   "source": [
    "#Посчитаем количество странных значений для каждого датчика\n",
    "num = 0\n",
    "for i in x_data.columns[1:16]:\n",
    "    num = num + x_data.loc[x_data['{}'.format(i)] < 0].shape[0]\n",
    "print(num)\n",
    "#203 - маленькое число значений, оно практически не повлияет на выборку из почти 30 000 значений, решено их не корректировать"
   ]
  },
  {
   "cell_type": "code",
   "execution_count": 9,
   "metadata": {},
   "outputs": [],
   "source": [
    "#загружаем датасет с данными, которые следует предсказать\n",
    "Y_submit = pd.read_csv('Y_submit.csv', sep = ';')"
   ]
  },
  {
   "cell_type": "code",
   "execution_count": 10,
   "metadata": {},
   "outputs": [],
   "source": [
    "#снова исправляем ситуацию с данными в хэдере, корректно называем столбцы\n",
    "Y_submit.loc[-1] = [pd.Series(Y_submit.columns)[0],pd.Series(Y_submit.columns)[1]]\n",
    "Y_submit.index = Y_submit.index + 1\n",
    "Y_submit = Y_submit.sort_index()\n",
    "Y_submit = Y_submit.rename(columns={'2018-05-04 00:05:00':'Date','420':'MAE'})"
   ]
  },
  {
   "cell_type": "code",
   "execution_count": 11,
   "metadata": {},
   "outputs": [],
   "source": [
    "#Мерджим таблицы для получения тестового датасета на котором будут предсказаны неизвестные значения MAE \n",
    "X_test = pd.merge(X_data, Y_submit, how = 'right', on = 'Date').drop(['MAE'],axis=1)"
   ]
  },
  {
   "cell_type": "code",
   "execution_count": 12,
   "metadata": {},
   "outputs": [],
   "source": [
    "#делим тренировочный датасет на тренировочную и валидационную выборки\n",
    "X_train, X_valid, y_train, y_valid = train_test_split(x_data, \n",
    "                                                      x_data['MAE'],\n",
    "                                                      test_size = 0.3, \n",
    "                                                      random_state = 42)"
   ]
  },
  {
   "cell_type": "markdown",
   "metadata": {},
   "source": [
    "### Моделирование"
   ]
  },
  {
   "cell_type": "code",
   "execution_count": 13,
   "metadata": {},
   "outputs": [
    {
     "data": {
      "text/plain": [
       "Index(['Date', 'T_data_1_1', 'T_data_1_2', 'T_data_1_3', 'T_data_2_1',\n",
       "       'T_data_2_2', 'T_data_2_3', 'T_data_3_1', 'T_data_3_2', 'T_data_3_3',\n",
       "       'T_data_4_1', 'T_data_4_2', 'T_data_4_3', 'T_data_5_1', 'T_data_5_2',\n",
       "       'T_data_5_3', 'H_data', 'AH_data', 'MAE'],\n",
       "      dtype='object')"
      ]
     },
     "execution_count": 13,
     "metadata": {},
     "output_type": "execute_result"
    }
   ],
   "source": [
    "X_train.columns"
   ]
  },
  {
   "cell_type": "code",
   "execution_count": 14,
   "metadata": {},
   "outputs": [],
   "source": [
    "#определяем признаки для использования, предполагаю использовать все столбцы, кроме Даты и, естественно, MAE\n",
    "feats = ['T_data_1_1', 'T_data_1_2', 'T_data_1_3', 'T_data_2_1',\n",
    "       'T_data_2_2', 'T_data_2_3', 'T_data_3_1', 'T_data_3_2', 'T_data_3_3',\n",
    "       'T_data_4_1', 'T_data_4_2', 'T_data_4_3', 'T_data_5_1', 'T_data_5_2',\n",
    "       'T_data_5_3', 'H_data', 'AH_data']"
   ]
  },
  {
   "cell_type": "code",
   "execution_count": 15,
   "metadata": {},
   "outputs": [],
   "source": [
    "#загружаем метрики и модель вместе с инструментом кросс-валидации\n",
    "from sklearn.metrics import r2_score as r2\n",
    "from sklearn.ensemble import RandomForestRegressor\n",
    "from sklearn.model_selection import GridSearchCV"
   ]
  },
  {
   "cell_type": "markdown",
   "metadata": {},
   "source": [
    "### Данный раздел исключен, т.к. занимает более 30 минут на выполнение. \n",
    "### Лучшие параметры для модели (11,11,200) были занесены сразу в функцию."
   ]
  },
  {
   "cell_type": "markdown",
   "metadata": {},
   "source": [
    "#### настраиваем параметры\n",
    "parameters = [{'n_estimators': [50, 100, 200], \n",
    "               'max_features': np.arange(4, 12), \n",
    "               'max_depth': np.arange(7, 12)}]"
   ]
  },
  {
   "cell_type": "markdown",
   "metadata": {},
   "source": [
    "##### проводим кросс-валидацию\n",
    "CV = GridSearchCV(estimator = RandomForestRegressor(random_state = 42),\n",
    "                   param_grid = parameters,\n",
    "                   scoring = 'r2',\n",
    "                   cv = 5)"
   ]
  },
  {
   "cell_type": "markdown",
   "metadata": {},
   "source": [
    "CV.fit(X_train.loc[: , feats], y_train)"
   ]
  },
  {
   "cell_type": "markdown",
   "metadata": {},
   "source": [
    "#### Определяем наилучшие параметры для RandomForestRegressor\n",
    "best_params = CV.best_params_\n",
    "\n",
    "    model = RandomForestRegressor(max_depth = best_params['max_depth'], \n",
    "                                  max_features = best_params['max_features'], \n",
    "                                  n_estimators = best_params['n_estimators'], \n",
    "                                  random_state = 42)"
   ]
  },
  {
   "cell_type": "code",
   "execution_count": 16,
   "metadata": {},
   "outputs": [],
   "source": [
    "#Создаем функцию, строим модель на лучших параметрах, обучаем её, получаем предсказания и готовую модель на выходе\n",
    "def model_predict (X_t, X_v, y_t):\n",
    "    model = RandomForestRegressor(max_depth = 11,\n",
    "                                  max_features = 11, \n",
    "                                  n_estimators = 200, \n",
    "                                  random_state = 42)\n",
    "    model.fit(X_t.loc[: , feats], y_t)\n",
    "    y_pred_t = model.predict(X_t.loc[: , feats])\n",
    "    y_pred_v = model.predict(X_v.loc[: , feats])\n",
    "    return y_pred_t, y_pred_v, model"
   ]
  },
  {
   "cell_type": "code",
   "execution_count": 17,
   "metadata": {},
   "outputs": [],
   "source": [
    "y_pred_train, y_pred_valid,  model  = model_predict(X_train, X_valid, y_train)"
   ]
  },
  {
   "cell_type": "code",
   "execution_count": 18,
   "metadata": {},
   "outputs": [
    {
     "data": {
      "text/plain": [
       "0.9645350411256641"
      ]
     },
     "execution_count": 18,
     "metadata": {},
     "output_type": "execute_result"
    }
   ],
   "source": [
    "#получаем результат на тренировочном предсказании\n",
    "r2(y_train, y_pred_train)"
   ]
  },
  {
   "cell_type": "code",
   "execution_count": 19,
   "metadata": {},
   "outputs": [
    {
     "data": {
      "text/plain": [
       "0.9115296841678389"
      ]
     },
     "execution_count": 19,
     "metadata": {},
     "output_type": "execute_result"
    }
   ],
   "source": [
    "#получаем результат на валидационном предсказании\n",
    "r2(y_valid, y_pred_valid)"
   ]
  },
  {
   "cell_type": "code",
   "execution_count": 20,
   "metadata": {},
   "outputs": [
    {
     "data": {
      "text/html": [
       "<div>\n",
       "<style scoped>\n",
       "    .dataframe tbody tr th:only-of-type {\n",
       "        vertical-align: middle;\n",
       "    }\n",
       "\n",
       "    .dataframe tbody tr th {\n",
       "        vertical-align: top;\n",
       "    }\n",
       "\n",
       "    .dataframe thead th {\n",
       "        text-align: right;\n",
       "    }\n",
       "</style>\n",
       "<table border=\"1\" class=\"dataframe\">\n",
       "  <thead>\n",
       "    <tr style=\"text-align: right;\">\n",
       "      <th></th>\n",
       "      <th>importance</th>\n",
       "    </tr>\n",
       "  </thead>\n",
       "  <tbody>\n",
       "    <tr>\n",
       "      <th>T_data_3_1</th>\n",
       "      <td>0.349099</td>\n",
       "    </tr>\n",
       "    <tr>\n",
       "      <th>T_data_3_2</th>\n",
       "      <td>0.256490</td>\n",
       "    </tr>\n",
       "    <tr>\n",
       "      <th>T_data_3_3</th>\n",
       "      <td>0.225276</td>\n",
       "    </tr>\n",
       "    <tr>\n",
       "      <th>H_data</th>\n",
       "      <td>0.030671</td>\n",
       "    </tr>\n",
       "    <tr>\n",
       "      <th>T_data_5_1</th>\n",
       "      <td>0.025478</td>\n",
       "    </tr>\n",
       "    <tr>\n",
       "      <th>T_data_5_2</th>\n",
       "      <td>0.020336</td>\n",
       "    </tr>\n",
       "    <tr>\n",
       "      <th>T_data_5_3</th>\n",
       "      <td>0.018202</td>\n",
       "    </tr>\n",
       "    <tr>\n",
       "      <th>T_data_1_1</th>\n",
       "      <td>0.015853</td>\n",
       "    </tr>\n",
       "    <tr>\n",
       "      <th>T_data_1_2</th>\n",
       "      <td>0.014317</td>\n",
       "    </tr>\n",
       "    <tr>\n",
       "      <th>T_data_1_3</th>\n",
       "      <td>0.013447</td>\n",
       "    </tr>\n",
       "    <tr>\n",
       "      <th>T_data_2_3</th>\n",
       "      <td>0.007694</td>\n",
       "    </tr>\n",
       "    <tr>\n",
       "      <th>T_data_2_2</th>\n",
       "      <td>0.007108</td>\n",
       "    </tr>\n",
       "    <tr>\n",
       "      <th>T_data_2_1</th>\n",
       "      <td>0.006691</td>\n",
       "    </tr>\n",
       "    <tr>\n",
       "      <th>AH_data</th>\n",
       "      <td>0.002505</td>\n",
       "    </tr>\n",
       "    <tr>\n",
       "      <th>T_data_4_2</th>\n",
       "      <td>0.002423</td>\n",
       "    </tr>\n",
       "    <tr>\n",
       "      <th>T_data_4_1</th>\n",
       "      <td>0.002235</td>\n",
       "    </tr>\n",
       "    <tr>\n",
       "      <th>T_data_4_3</th>\n",
       "      <td>0.002175</td>\n",
       "    </tr>\n",
       "  </tbody>\n",
       "</table>\n",
       "</div>"
      ],
      "text/plain": [
       "            importance\n",
       "T_data_3_1    0.349099\n",
       "T_data_3_2    0.256490\n",
       "T_data_3_3    0.225276\n",
       "H_data        0.030671\n",
       "T_data_5_1    0.025478\n",
       "T_data_5_2    0.020336\n",
       "T_data_5_3    0.018202\n",
       "T_data_1_1    0.015853\n",
       "T_data_1_2    0.014317\n",
       "T_data_1_3    0.013447\n",
       "T_data_2_3    0.007694\n",
       "T_data_2_2    0.007108\n",
       "T_data_2_1    0.006691\n",
       "AH_data       0.002505\n",
       "T_data_4_2    0.002423\n",
       "T_data_4_1    0.002235\n",
       "T_data_4_3    0.002175"
      ]
     },
     "execution_count": 20,
     "metadata": {},
     "output_type": "execute_result"
    }
   ],
   "source": [
    "#определяем наиболее важные признаки\n",
    "feature_importances = pd.DataFrame(model.feature_importances_,\n",
    "                                   index = feats,\n",
    "                                    columns=['importance']).sort_values('importance', ascending=False)\n",
    "feature_importances"
   ]
  },
  {
   "cell_type": "code",
   "execution_count": 21,
   "metadata": {},
   "outputs": [
    {
     "name": "stdout",
     "output_type": "stream",
     "text": [
      "<class 'pandas.core.frame.DataFrame'>\n",
      "Int64Index: 5808 entries, 0 to 5807\n",
      "Data columns (total 2 columns):\n",
      "Date    5808 non-null object\n",
      "MAE     5808 non-null float64\n",
      "dtypes: float64(1), object(1)\n",
      "memory usage: 136.1+ KB\n"
     ]
    }
   ],
   "source": [
    "#предсказываем результаты на тестовой выборке\n",
    "X_test['MAE'] = model.predict(X_test.loc[: , feats])\n",
    "X_test.loc[:,['Date','MAE']].info()"
   ]
  },
  {
   "cell_type": "code",
   "execution_count": 22,
   "metadata": {},
   "outputs": [],
   "source": [
    "#выгружаем результаты\n",
    "X_test.loc[:,['Date','MAE']].to_csv('NSMaslov_predictions.csv', index = None)"
   ]
  }
 ],
 "metadata": {
  "kernelspec": {
   "display_name": "Python 3",
   "language": "python",
   "name": "python3"
  },
  "language_info": {
   "codemirror_mode": {
    "name": "ipython",
    "version": 3
   },
   "file_extension": ".py",
   "mimetype": "text/x-python",
   "name": "python",
   "nbconvert_exporter": "python",
   "pygments_lexer": "ipython3",
   "version": "3.7.1"
  }
 },
 "nbformat": 4,
 "nbformat_minor": 2
}
