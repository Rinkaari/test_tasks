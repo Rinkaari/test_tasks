{
 "cells": [
  {
   "cell_type": "code",
   "execution_count": 1,
   "metadata": {},
   "outputs": [],
   "source": [
    "import numpy as np\n",
    "import pandas as pd\n",
    "\n",
    "n = 200\n",
    "ordersid = np.random.randint(1, 500, size=n)\n",
    "customerid = np.random.randint(583, 19573, size=n)\n",
    "dates = pd.date_range('2018-11-29 12:00:00', periods=n, freq=None)\n",
    "productid = np.random.randint(1, 10, size=n)\n",
    "products = pd.Series([1,2,3,4,5,6,7,8,9,10])\n",
    "price = pd.Series([10, 20, 100, 150, 30, 400, 5, 950, 523, 14000])\n",
    "prod_pric = pd.DataFrame({'ProductId': products, 'Price':price})\n",
    "pro_ord_pri = pd.DataFrame({'ProductId': productid, 'OrderId':ordersid})\n",
    "order_lines = pd.merge(pro_ord_pri, prod_pric, how = 'left', on = 'ProductId')\n",
    "orders = pd.DataFrame({'OrderId' : ordersid, 'CustomerId': customerid, 'DateTime': dates})"
   ]
  },
  {
   "cell_type": "markdown",
   "metadata": {},
   "source": [
    "### Вопрос 1\n",
    "Пожалуйста, не пишите код внутри форм ответов, разместите ссылки. Код должен открываться в браузере, без архивов, GitHub будет идеальным. Если в задании что-то непонятно, опишите возникшие вопросы и сделанные предположения. Например, в комментариях в коде.\n",
    "\n",
    "Из базы загружены заказами клиентов магазина. Это два pandas.DataFrame’а orders и order_lines:\n",
    "\n",
    "-orders содержит информацию о заказах: идентификатор заказа, идентификатор покупателя, время заказа:\n",
    "OrderId,CustomerId,DateTime\n",
    "\n",
    "5,583,2017-01-01 15:03:17\n",
    "\n",
    "13,900,2019-02-05 05:02:59\n",
    "\n",
    "69,19573,2018-11-03 23:59:59\n",
    "\n",
    "...\n",
    "\n",
    "-order_lines содержит информацию о линиях чеков: идентификатор продукта, идентификатор заказа, цену продукта\n",
    "ProductId,OrderId,Price\n",
    "\n",
    "5873,5,3026.0\n",
    "\n",
    "7265,5,573.0\n",
    "\n",
    "9675,5,159.0\n",
    "\n",
    "5873,6,2999.0\n",
    "\n",
    "13,6,57.0\n",
    "\n",
    "...\n",
    "\n",
    "Постройте отчёт (таблица в виде DataFrame), где видны\n",
    "самые популярные за последний месяц продукты\n",
    "\n",
    "суммарная выручка (за последний месяц) по каждому такому продукту\n",
    "\n",
    "средний чек заказов (за последний месяц), в которых есть такие продукты"
   ]
  },
  {
   "cell_type": "markdown",
   "metadata": {},
   "source": [
    "### Код"
   ]
  },
  {
   "cell_type": "code",
   "execution_count": 2,
   "metadata": {},
   "outputs": [],
   "source": [
    "import numpy as np\n",
    "import pandas as pd\n",
    "from datetime import datetime, timedelta\n",
    "data = pd.merge(orders, order_lines, how = 'left', on = 'OrderId')"
   ]
  },
  {
   "cell_type": "code",
   "execution_count": 3,
   "metadata": {},
   "outputs": [],
   "source": [
    "data = data.set_index(['DateTime'])\n",
    "curr_date = datetime.today()\n",
    "#не совсем понятно, что подразумевается под \"за последний месяц\". За 30 дней? Или за текущий неполный месяц, например за июнь?\n",
    "#или же за прошлый полный месяц? решено остановиться на варианте за последние 30 дней.\n",
    "last_date = curr_date - timedelta(days = 30)\n",
    "data_month = data.loc[last_date:curr_date]"
   ]
  },
  {
   "cell_type": "code",
   "execution_count": 4,
   "metadata": {},
   "outputs": [],
   "source": [
    "#в качестве самый популярных продуктов были определены топ-5 продуктов, которые покупались чаще всего в датафрейме\n",
    "top_5_prod = pd.pivot_table(data_month, \n",
    "                       values=['OrderId'], \n",
    "                       index=['ProductId'],\n",
    "                       aggfunc = lambda x: x.value_counts().count()).rename(columns = {'OrderId':'Frequency'})\n",
    "top_5_prod = top_5_prod.sort_values(['Frequency'], ascending = False).iloc[0:5]"
   ]
  },
  {
   "cell_type": "code",
   "execution_count": 5,
   "metadata": {},
   "outputs": [],
   "source": [
    "top_5_prod = pd.merge(top_5_prod, data_month, how = 'left', on = 'ProductId')"
   ]
  },
  {
   "cell_type": "code",
   "execution_count": 6,
   "metadata": {},
   "outputs": [],
   "source": [
    "#считаем количество покупок за последний месяц по топ-продуктам\n",
    "purchase_number = top_5_prod['OrderId'].value_counts().count()"
   ]
  },
  {
   "cell_type": "code",
   "execution_count": 7,
   "metadata": {},
   "outputs": [],
   "source": [
    "top_5_prod = top_5_prod.drop_duplicates(subset = 'ProductId')\n",
    "#выручка определяется как произведение количества товара в заказах и цены товара\n",
    "top_5_prod['Revenue'] = top_5_prod['Frequency'] * top_5_prod['Price']\n",
    "#средний чек заказов определяется как отношение совокупной выручки к общему числу покупок (заказов)\n",
    "top_5_prod['AverageBill'] = top_5_prod['Revenue'].sum()/purchase_number\n",
    "final_table = top_5_prod.reset_index().drop(['Frequency','Price', 'OrderId','index'], axis = 1)"
   ]
  },
  {
   "cell_type": "markdown",
   "metadata": {},
   "source": [
    "### Финальная таблица"
   ]
  },
  {
   "cell_type": "code",
   "execution_count": 8,
   "metadata": {},
   "outputs": [
    {
     "name": "stdout",
     "output_type": "stream",
     "text": [
      "   ProductId  CustomerId  Revenue  AverageBill\n",
      "0          3        8904      900    98.863636\n",
      "1          4       18654     1050    98.863636\n",
      "2          7        8904       25    98.863636\n",
      "3          2        1352       80    98.863636\n",
      "4          5       12531      120    98.863636\n"
     ]
    }
   ],
   "source": [
    "print(final_table)"
   ]
  },
  {
   "cell_type": "markdown",
   "metadata": {},
   "source": [
    "### Тестирование"
   ]
  },
  {
   "cell_type": "code",
   "execution_count": 9,
   "metadata": {},
   "outputs": [
    {
     "name": "stdout",
     "output_type": "stream",
     "text": [
      "Frequency test is OK\n",
      "Purchase test is OK\n",
      "Revenue test is OK\n",
      "Month test is OK\n"
     ]
    }
   ],
   "source": [
    "def test_freq():\n",
    "    if top_5_prod['Frequency'].sum() <= data_month['OrderId'].sum():\n",
    "        print(\"Frequency test is OK\")\n",
    "    else:\n",
    "        print(\"Frequency test is Fail\")\n",
    "        \n",
    "def test_purch():\n",
    "    if top_5_prod['Frequency'].sum() >= purchase_number:\n",
    "        print(\"Purchase test is OK\")\n",
    "    else:\n",
    "        print(\"Purchase test is Fail\")\n",
    "        \n",
    "def test_reven():\n",
    "    if top_5_prod['Revenue'].sum() <= data_month['Price'].sum():\n",
    "        print(\"Revenue test is OK\")\n",
    "    else:\n",
    "        print(\"Revenue test is Fail\")\n",
    "        \n",
    "def test_month():\n",
    "    if data_month.reset_index()['DateTime'].value_counts().count() <= 31:\n",
    "        print(\"Month test is OK\")\n",
    "    else:\n",
    "        print(\"Month test is Fail\")       \n",
    "\n",
    "test_freq()\n",
    "test_purch()\n",
    "test_reven()\n",
    "test_month()"
   ]
  }
 ],
 "metadata": {
  "kernelspec": {
   "display_name": "Python 3",
   "language": "python",
   "name": "python3"
  },
  "language_info": {
   "codemirror_mode": {
    "name": "ipython",
    "version": 3
   },
   "file_extension": ".py",
   "mimetype": "text/x-python",
   "name": "python",
   "nbconvert_exporter": "python",
   "pygments_lexer": "ipython3",
   "version": "3.7.1"
  }
 },
 "nbformat": 4,
 "nbformat_minor": 2
}
