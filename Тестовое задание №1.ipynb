{
 "cells": [
  {
   "cell_type": "code",
   "execution_count": 1,
   "metadata": {},
   "outputs": [],
   "source": [
    "import pandas as pd\n",
    "import numpy as np\n",
    "import matplotlib.pyplot as plt"
   ]
  },
  {
   "cell_type": "code",
   "execution_count": 2,
   "metadata": {
    "scrolled": true
   },
   "outputs": [],
   "source": [
    "stat = pd.read_csv('Статистика за 2018 год.csv', engine='python')"
   ]
  },
  {
   "cell_type": "code",
   "execution_count": 3,
   "metadata": {},
   "outputs": [],
   "source": [
    "stat['Статус партии по БЛ'] = stat['Число бракованных листов'] > 3\n",
    "stat['Статус скорости прокатки партии'] = stat['Скорость прокатки'] > 4"
   ]
  },
  {
   "cell_type": "code",
   "execution_count": 4,
   "metadata": {},
   "outputs": [],
   "source": [
    "for i in stat.index:\n",
    "    if stat.loc[stat.index[i], 'Статус партии по БЛ'] == True:\n",
    "        stat.loc[stat.index[i], 'Статус партии по БЛ'] = 'Бракованных листов в партии больше 3'\n",
    "    else:\n",
    "        stat.loc[stat.index[i], 'Статус партии по БЛ'] = 'Бракованных листов в партии равно или меньше 3'"
   ]
  },
  {
   "cell_type": "code",
   "execution_count": 5,
   "metadata": {},
   "outputs": [],
   "source": [
    "for i in stat.index:\n",
    "    if stat.loc[stat.index[i], 'Статус скорости прокатки партии'] == True:\n",
    "        stat.loc[stat.index[i], 'Статус скорости прокатки партии'] = 'Скорость проката больше 4'\n",
    "    else:\n",
    "        stat.loc[stat.index[i], 'Статус скорости прокатки партии'] = 'Скорость проката равно или меньше 4'"
   ]
  },
  {
   "cell_type": "markdown",
   "metadata": {},
   "source": [
    "### Задание 1\n",
    "Сотрудник службы оценки качества продукции заметил, что число бракованных листов стали в партии для стали марки A больше, чем для стали марки B. Также он обратил внимание, что при средней скорости прокатки более 4 м/с число бракованных листов больше. В соответствии с этими наблюдениями, предлагается снизить скорость прокатки и ввести дополнительные меры контроля качества для стали марки A.  \n",
    "Обоснуйте, что:\n",
    "1. Более 3 бракованных листов на партию выходит значимо чаще для стали марки А, чем для стали марки B.\n",
    "2. При скоростях прокатки более 4 м/с свыше 3 бракованных листов стали на партию выходит значимо чаще, чем при меньших скоростях прокатки. \n"
   ]
  },
  {
   "cell_type": "markdown",
   "metadata": {},
   "source": [
    "### Чему равен коэффицент бракованных партий для каждой марки стали?\n",
    "коэффицент бракованных партий = количество партий с более чем тремя бракованными листами / общее количество партий "
   ]
  },
  {
   "cell_type": "code",
   "execution_count": 6,
   "metadata": {},
   "outputs": [],
   "source": [
    "pivot1 = pd.pivot_table(stat, values='Число бракованных листов', \n",
    "                       index=['Марка стали','Статус партии по БЛ'], \n",
    "                       aggfunc=len).rename(columns = {'Число бракованных листов': 'Число партий'})"
   ]
  },
  {
   "cell_type": "code",
   "execution_count": 7,
   "metadata": {},
   "outputs": [
    {
     "name": "stdout",
     "output_type": "stream",
     "text": [
      "                                                            Число партий\n",
      "Марка стали Статус партии по БЛ                                         \n",
      "A           Бракованных листов в партии больше 3                      53\n",
      "            Бракованных листов в партии равно или меньше 3            86\n",
      "B           Бракованных листов в партии больше 3                      44\n",
      "            Бракованных листов в партии равно или меньше 3            54\n"
     ]
    }
   ],
   "source": [
    "print(pivot1)"
   ]
  },
  {
   "cell_type": "code",
   "execution_count": 41,
   "metadata": {},
   "outputs": [],
   "source": [
    "def spoil_coef(piv,col,n1,n2):\n",
    "    a = piv.loc[piv.index[n1],col]\n",
    "    b = piv.loc[piv.index[n1],col] + piv.loc[piv.index[n2],col]\n",
    "    mark_spoil_coef = a / b\n",
    "    return mark_spoil_coef"
   ]
  },
  {
   "cell_type": "code",
   "execution_count": 44,
   "metadata": {},
   "outputs": [
    {
     "name": "stdout",
     "output_type": "stream",
     "text": [
      "0.381294964028777\n"
     ]
    }
   ],
   "source": [
    "A_mark_spoil_coef = spoil_coef(pivot1,'Число партий', 0, 1)\n",
    "print(A_mark_spoil_coef)"
   ]
  },
  {
   "cell_type": "code",
   "execution_count": 51,
   "metadata": {},
   "outputs": [
    {
     "name": "stdout",
     "output_type": "stream",
     "text": [
      "0.4489795918367347\n"
     ]
    }
   ],
   "source": [
    "B_mark_spoil_coef = spoil_coef(pivot1,'Число партий', 2, 3)\n",
    "print(B_mark_spoil_coef)"
   ]
  },
  {
   "cell_type": "code",
   "execution_count": 52,
   "metadata": {},
   "outputs": [
    {
     "data": {
      "text/plain": [
       "False"
      ]
     },
     "execution_count": 52,
     "metadata": {},
     "output_type": "execute_result"
    }
   ],
   "source": [
    "A_mark_spoil_coef > B_mark_spoil_coef"
   ]
  },
  {
   "cell_type": "markdown",
   "metadata": {},
   "source": [
    "### Сколько в среднем приходится бракованных листов на одну партию?"
   ]
  },
  {
   "cell_type": "code",
   "execution_count": 13,
   "metadata": {},
   "outputs": [],
   "source": [
    "pivot2 = pd.pivot_table(stat, values='Число бракованных листов', \n",
    "                       index=['Марка стали','Статус партии по БЛ'], \n",
    "                       aggfunc=np.sum)"
   ]
  },
  {
   "cell_type": "code",
   "execution_count": 35,
   "metadata": {},
   "outputs": [
    {
     "name": "stdout",
     "output_type": "stream",
     "text": [
      "                                                            Число бракованных листов\n",
      "Марка стали Статус партии по БЛ                                                     \n",
      "A           Бракованных листов в партии больше 3                                 271\n",
      "            Бракованных листов в партии равно или меньше 3                       171\n",
      "B           Бракованных листов в партии больше 3                                 215\n",
      "            Бракованных листов в партии равно или меньше 3                       115\n"
     ]
    }
   ],
   "source": [
    "print(pivot2)"
   ]
  },
  {
   "cell_type": "code",
   "execution_count": 53,
   "metadata": {},
   "outputs": [
    {
     "name": "stdout",
     "output_type": "stream",
     "text": [
      "3.179856115107914\n"
     ]
    }
   ],
   "source": [
    "A_mark_avg_spoil_sheet = ((pivot2.loc[pivot2.index[0],'Число бракованных листов'] + \n",
    "                           pivot2.loc[pivot2.index[1],'Число бракованных листов']) /\n",
    "                          (pivot1.loc[pivot1.index[0],'Число партий'] + \n",
    "                           pivot1.loc[pivot1.index[1],'Число партий']))\n",
    "print(A_mark_avg_spoil_sheet)"
   ]
  },
  {
   "cell_type": "code",
   "execution_count": 54,
   "metadata": {},
   "outputs": [
    {
     "name": "stdout",
     "output_type": "stream",
     "text": [
      "3.36734693877551\n"
     ]
    }
   ],
   "source": [
    "B_mark_avg_spoil_sheet = ((pivot2.loc[pivot2.index[2],'Число бракованных листов'] + \n",
    "                           pivot2.loc[pivot2.index[3],'Число бракованных листов']) / \n",
    "                          (pivot1.loc[pivot1.index[2],'Число партий'] + \n",
    "                           pivot1.loc[pivot1.index[3],'Число партий']))\n",
    "print(B_mark_avg_spoil_sheet)"
   ]
  },
  {
   "cell_type": "code",
   "execution_count": 55,
   "metadata": {},
   "outputs": [
    {
     "data": {
      "text/plain": [
       "False"
      ]
     },
     "execution_count": 55,
     "metadata": {},
     "output_type": "execute_result"
    }
   ],
   "source": [
    "A_mark_avg_spoil_sheet > B_mark_avg_spoil_sheet"
   ]
  },
  {
   "cell_type": "code",
   "execution_count": 18,
   "metadata": {},
   "outputs": [],
   "source": [
    "results_1 = pd.DataFrame(\n",
    "    {'Марка стали': ['A', 'B'],\n",
    "     'Коэффициент бракованных партий': [A_mark_spoil_coef, B_mark_spoil_coef],\n",
    "     'Среднее кол-во бракованных листов на одну партию': [A_mark_avg_spoil_sheet, B_mark_avg_spoil_sheet]})"
   ]
  },
  {
   "cell_type": "code",
   "execution_count": 61,
   "metadata": {},
   "outputs": [
    {
     "data": {
      "text/html": [
       "<div>\n",
       "<style scoped>\n",
       "    .dataframe tbody tr th:only-of-type {\n",
       "        vertical-align: middle;\n",
       "    }\n",
       "\n",
       "    .dataframe tbody tr th {\n",
       "        vertical-align: top;\n",
       "    }\n",
       "\n",
       "    .dataframe thead th {\n",
       "        text-align: right;\n",
       "    }\n",
       "</style>\n",
       "<table border=\"1\" class=\"dataframe\">\n",
       "  <thead>\n",
       "    <tr style=\"text-align: right;\">\n",
       "      <th></th>\n",
       "      <th>Марка стали</th>\n",
       "      <th>Коэффициент бракованных партий</th>\n",
       "      <th>Среднее кол-во бракованных листов на одну партию</th>\n",
       "    </tr>\n",
       "  </thead>\n",
       "  <tbody>\n",
       "    <tr>\n",
       "      <th>0</th>\n",
       "      <td>A</td>\n",
       "      <td>0.381295</td>\n",
       "      <td>3.179856</td>\n",
       "    </tr>\n",
       "    <tr>\n",
       "      <th>1</th>\n",
       "      <td>B</td>\n",
       "      <td>0.448980</td>\n",
       "      <td>3.367347</td>\n",
       "    </tr>\n",
       "  </tbody>\n",
       "</table>\n",
       "</div>"
      ],
      "text/plain": [
       "  Марка стали  Коэффициент бракованных партий  \\\n",
       "0           A                        0.381295   \n",
       "1           B                        0.448980   \n",
       "\n",
       "   Среднее кол-во бракованных листов на одну партию  \n",
       "0                                          3.179856  \n",
       "1                                          3.367347  "
      ]
     },
     "execution_count": 61,
     "metadata": {},
     "output_type": "execute_result"
    }
   ],
   "source": [
    "results_1"
   ]
  },
  {
   "cell_type": "markdown",
   "metadata": {},
   "source": [
    "### Существует ли зависимость между скоростью прокатки и частотой брака?\n",
    "Отобразим на графике значения:\n",
    " - Число бракованных листов\n",
    " - Скорость прокатки"
   ]
  },
  {
   "cell_type": "code",
   "execution_count": 20,
   "metadata": {},
   "outputs": [
    {
     "data": {
      "image/png": "[encoded data removed]",
      "text/plain": [
       "<Figure size 432x288 with 1 Axes>"
      ]
     },
     "metadata": {
      "needs_background": "light"
     },
     "output_type": "display_data"
    }
   ],
   "source": [
    "plt.scatter(stat.index, stat['Число бракованных листов']) \n",
    "plt.scatter(stat.index, stat['Скорость прокатки'])\n",
    "plt.show()"
   ]
  },
  {
   "cell_type": "markdown",
   "metadata": {},
   "source": [
    "Рассчитаем коэффициент корелляции"
   ]
  },
  {
   "cell_type": "code",
   "execution_count": 21,
   "metadata": {},
   "outputs": [
    {
     "name": "stdout",
     "output_type": "stream",
     "text": [
      "0.0114726198106392\n"
     ]
    }
   ],
   "source": [
    "corr_coef_speed_spoil = np.corrcoef(stat['Число бракованных листов'],stat['Скорость прокатки'])[0,1]\n",
    "print(corr_coef_speed_spoil)"
   ]
  },
  {
   "cell_type": "markdown",
   "metadata": {},
   "source": [
    "Также определим коэффициент бракованных партий (долю)"
   ]
  },
  {
   "cell_type": "code",
   "execution_count": 22,
   "metadata": {},
   "outputs": [],
   "source": [
    "pivot3 = pd.pivot_table(stat, values='Число бракованных листов', \n",
    "                       index=['Статус скорости прокатки партии','Статус партии по БЛ'], \n",
    "                       aggfunc=len).rename(columns = {'Число бракованных листов': 'Число партий'})"
   ]
  },
  {
   "cell_type": "code",
   "execution_count": 57,
   "metadata": {},
   "outputs": [
    {
     "name": "stdout",
     "output_type": "stream",
     "text": [
      "                                                                                    Число партий\n",
      "Статус скорости прокатки партии     Статус партии по БЛ                                         \n",
      "Скорость проката больше 4           Бракованных листов в партии больше 3                      74\n",
      "                                    Бракованных листов в партии равно или меньше 3           105\n",
      "Скорость проката равно или меньше 4 Бракованных листов в партии больше 3                      23\n",
      "                                    Бракованных листов в партии равно или меньше 3            35\n"
     ]
    }
   ],
   "source": [
    "print(pivot3)"
   ]
  },
  {
   "cell_type": "code",
   "execution_count": 49,
   "metadata": {},
   "outputs": [
    {
     "name": "stdout",
     "output_type": "stream",
     "text": [
      "0.4134078212290503\n"
     ]
    }
   ],
   "source": [
    "HSpeed_mark_spoil_coef = spoil_coef(pivot3,'Число партий', 0, 1)\n",
    "print(HSpeed_mark_spoil_coef)"
   ]
  },
  {
   "cell_type": "code",
   "execution_count": 50,
   "metadata": {},
   "outputs": [
    {
     "name": "stdout",
     "output_type": "stream",
     "text": [
      "0.39655172413793105\n"
     ]
    }
   ],
   "source": [
    "LSpeed_mark_spoil_coef = spoil_coef(pivot3,'Число партий', 2, 3)\n",
    "print(LSpeed_mark_spoil_coef)"
   ]
  },
  {
   "cell_type": "code",
   "execution_count": 28,
   "metadata": {},
   "outputs": [],
   "source": [
    "results_2 = pd.DataFrame(\n",
    "    {'Статус скорости прокатки партии': ['Скорость проката больше 4', 'Скорость проката равно или меньше 4'],\n",
    "     'Коэффициент бракованных партий': [HSpeed_mark_spoil_coef, LSpeed_mark_spoil_coef]})"
   ]
  },
  {
   "cell_type": "code",
   "execution_count": 56,
   "metadata": {},
   "outputs": [
    {
     "name": "stdout",
     "output_type": "stream",
     "text": [
      "       Статус скорости прокатки партии  Коэффициент бракованных партий\n",
      "0            Скорость проката больше 4                        0.413408\n",
      "1  Скорость проката равно или меньше 4                        0.396552\n"
     ]
    }
   ],
   "source": [
    "print(results_2)"
   ]
  },
  {
   "cell_type": "code",
   "execution_count": 30,
   "metadata": {},
   "outputs": [],
   "source": [
    "pivot4 = pd.pivot_table(stat, values='Число бракованных листов', \n",
    "                       index=['Статус скорости прокатки партии','Статус партии по БЛ'], columns = ['Марка стали'],\n",
    "                       aggfunc=len)"
   ]
  },
  {
   "cell_type": "code",
   "execution_count": 60,
   "metadata": {},
   "outputs": [
    {
     "data": {
      "text/html": [
       "<div>\n",
       "<style scoped>\n",
       "    .dataframe tbody tr th:only-of-type {\n",
       "        vertical-align: middle;\n",
       "    }\n",
       "\n",
       "    .dataframe tbody tr th {\n",
       "        vertical-align: top;\n",
       "    }\n",
       "\n",
       "    .dataframe thead th {\n",
       "        text-align: right;\n",
       "    }\n",
       "</style>\n",
       "<table border=\"1\" class=\"dataframe\">\n",
       "  <thead>\n",
       "    <tr style=\"text-align: right;\">\n",
       "      <th></th>\n",
       "      <th>Марка стали</th>\n",
       "      <th>A</th>\n",
       "      <th>B</th>\n",
       "    </tr>\n",
       "    <tr>\n",
       "      <th>Статус скорости прокатки партии</th>\n",
       "      <th>Статус партии по БЛ</th>\n",
       "      <th></th>\n",
       "      <th></th>\n",
       "    </tr>\n",
       "  </thead>\n",
       "  <tbody>\n",
       "    <tr>\n",
       "      <th rowspan=\"2\" valign=\"top\">Скорость проката больше 4</th>\n",
       "      <th>Бракованных листов в партии больше 3</th>\n",
       "      <td>39</td>\n",
       "      <td>35</td>\n",
       "    </tr>\n",
       "    <tr>\n",
       "      <th>Бракованных листов в партии равно или меньше 3</th>\n",
       "      <td>61</td>\n",
       "      <td>44</td>\n",
       "    </tr>\n",
       "    <tr>\n",
       "      <th rowspan=\"2\" valign=\"top\">Скорость проката равно или меньше 4</th>\n",
       "      <th>Бракованных листов в партии больше 3</th>\n",
       "      <td>14</td>\n",
       "      <td>9</td>\n",
       "    </tr>\n",
       "    <tr>\n",
       "      <th>Бракованных листов в партии равно или меньше 3</th>\n",
       "      <td>25</td>\n",
       "      <td>10</td>\n",
       "    </tr>\n",
       "  </tbody>\n",
       "</table>\n",
       "</div>"
      ],
      "text/plain": [
       "Марка стали                                                                          A  \\\n",
       "Статус скорости прокатки партии     Статус партии по БЛ                                  \n",
       "Скорость проката больше 4           Бракованных листов в партии больше 3            39   \n",
       "                                    Бракованных листов в партии равно или меньше 3  61   \n",
       "Скорость проката равно или меньше 4 Бракованных листов в партии больше 3            14   \n",
       "                                    Бракованных листов в партии равно или меньше 3  25   \n",
       "\n",
       "Марка стали                                                                          B  \n",
       "Статус скорости прокатки партии     Статус партии по БЛ                                 \n",
       "Скорость проката больше 4           Бракованных листов в партии больше 3            35  \n",
       "                                    Бракованных листов в партии равно или меньше 3  44  \n",
       "Скорость проката равно или меньше 4 Бракованных листов в партии больше 3             9  \n",
       "                                    Бракованных листов в партии равно или меньше 3  10  "
      ]
     },
     "execution_count": 60,
     "metadata": {},
     "output_type": "execute_result"
    }
   ],
   "source": [
    "pivot4"
   ]
  },
  {
   "cell_type": "code",
   "execution_count": 32,
   "metadata": {},
   "outputs": [],
   "source": [
    "A_HSpeed_mark_spoil_coef = spoil_coef(pivot4,'A', 0, 1)\n",
    "A_LSpeed_mark_spoil_coef = spoil_coef(pivot4,'A', 2, 3)\n",
    "B_HSpeed_mark_spoil_coef = spoil_coef(pivot4,'B', 0, 1)\n",
    "B_LSpeed_mark_spoil_coef = spoil_coef(pivot4,'B', 2, 3)"
   ]
  },
  {
   "cell_type": "code",
   "execution_count": 33,
   "metadata": {},
   "outputs": [],
   "source": [
    "results_2_1 = pd.DataFrame(\n",
    "    {'Марка стали': ['А', 'A', 'B', 'B'],\n",
    "     'Статус скорости прокатки партии': ['Скорость проката больше 4', 'Скорость проката равно или меньше 4', 'Скорость проката больше 4', 'Скорость проката равно или меньше 4'],\n",
    "     'Коэффициент бракованных партий':[A_HSpeed_mark_spoil_coef, A_LSpeed_mark_spoil_coef, B_HSpeed_mark_spoil_coef, B_LSpeed_mark_spoil_coef]})"
   ]
  },
  {
   "cell_type": "code",
   "execution_count": 34,
   "metadata": {},
   "outputs": [
    {
     "data": {
      "text/html": [
       "<div>\n",
       "<style scoped>\n",
       "    .dataframe tbody tr th:only-of-type {\n",
       "        vertical-align: middle;\n",
       "    }\n",
       "\n",
       "    .dataframe tbody tr th {\n",
       "        vertical-align: top;\n",
       "    }\n",
       "\n",
       "    .dataframe thead th {\n",
       "        text-align: right;\n",
       "    }\n",
       "</style>\n",
       "<table border=\"1\" class=\"dataframe\">\n",
       "  <thead>\n",
       "    <tr style=\"text-align: right;\">\n",
       "      <th></th>\n",
       "      <th>Марка стали</th>\n",
       "      <th>Статус скорости прокатки партии</th>\n",
       "      <th>Коэффициент бракованных партий</th>\n",
       "    </tr>\n",
       "  </thead>\n",
       "  <tbody>\n",
       "    <tr>\n",
       "      <th>0</th>\n",
       "      <td>А</td>\n",
       "      <td>Скорость проката больше 4</td>\n",
       "      <td>0.390000</td>\n",
       "    </tr>\n",
       "    <tr>\n",
       "      <th>1</th>\n",
       "      <td>A</td>\n",
       "      <td>Скорость проката равно или меньше 4</td>\n",
       "      <td>0.358974</td>\n",
       "    </tr>\n",
       "    <tr>\n",
       "      <th>2</th>\n",
       "      <td>B</td>\n",
       "      <td>Скорость проката больше 4</td>\n",
       "      <td>0.443038</td>\n",
       "    </tr>\n",
       "    <tr>\n",
       "      <th>3</th>\n",
       "      <td>B</td>\n",
       "      <td>Скорость проката равно или меньше 4</td>\n",
       "      <td>0.473684</td>\n",
       "    </tr>\n",
       "  </tbody>\n",
       "</table>\n",
       "</div>"
      ],
      "text/plain": [
       "  Марка стали      Статус скорости прокатки партии  \\\n",
       "0           А            Скорость проката больше 4   \n",
       "1           A  Скорость проката равно или меньше 4   \n",
       "2           B            Скорость проката больше 4   \n",
       "3           B  Скорость проката равно или меньше 4   \n",
       "\n",
       "   Коэффициент бракованных партий  \n",
       "0                        0.390000  \n",
       "1                        0.358974  \n",
       "2                        0.443038  \n",
       "3                        0.473684  "
      ]
     },
     "execution_count": 34,
     "metadata": {},
     "output_type": "execute_result"
    }
   ],
   "source": [
    "results_2_1"
   ]
  }
 ],
 "metadata": {
  "kernelspec": {
   "display_name": "Python 3",
   "language": "python",
   "name": "python3"
  },
  "language_info": {
   "codemirror_mode": {
    "name": "ipython",
    "version": 3
   },
   "file_extension": ".py",
   "mimetype": "text/x-python",
   "name": "python",
   "nbconvert_exporter": "python",
   "pygments_lexer": "ipython3",
   "version": "3.7.1"
  }
 },
 "nbformat": 4,
 "nbformat_minor": 2
}
